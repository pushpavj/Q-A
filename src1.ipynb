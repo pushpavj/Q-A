{
 "cells": [
  {
   "cell_type": "code",
   "execution_count": null,
   "metadata": {},
   "outputs": [],
   "source": [
    "#Question#1\n",
    "# Move Zeroes\n",
    "# Given an integer array nums, move all 0's to the end of it while maintaining the relative order of the non-zero elements.\n",
    "\n",
    "# Note that you must do this in-place without making a copy of the array.\n",
    "\n",
    "# Example 1:\n",
    "# Input: nums = [0,1,0,3,12]\n",
    "# Output: [1,3,12,0,0]\n",
    "\n",
    "# Example 2:\n",
    "# Input: nums = [0]\n",
    "# Output: [0]\n",
    "\n",
    "# Constraints:\n",
    "# a. 1 <= nums.length <= 10^4\n",
    "# b. -2^31 <= nums[i] <= 2^31 - 1"
   ]
  },
  {
   "cell_type": "code",
   "execution_count": 3,
   "metadata": {},
   "outputs": [
    {
     "name": "stdout",
     "output_type": "stream",
     "text": [
      "[1, 3, 12, 0, 0]\n",
      "[0]\n"
     ]
    }
   ],
   "source": [
    "#Solution 1\n",
    "def fun1(nums):\n",
    "    c=nums.count(0)\n",
    "    l2=[0]*c\n",
    "    for i in range(c):\n",
    "        nums.remove(0)\n",
    "    nums=nums+l2\n",
    "    print(nums)\n",
    "num1=[0,1,0,3,12]\n",
    "num2=[0]\n",
    "fun1(num1)\n",
    "fun1(num2)"
   ]
  },
  {
   "cell_type": "code",
   "execution_count": 5,
   "metadata": {},
   "outputs": [
    {
     "name": "stdout",
     "output_type": "stream",
     "text": [
      "new_num3= [1, 3, 12, 0, 0]\n",
      "new_num3= [0]\n"
     ]
    }
   ],
   "source": [
    "#solution2\n",
    "def fun2(num):\n",
    "    new_num1=[]\n",
    "    new_num2=[]\n",
    "\n",
    "    for i in range(len(num)):\n",
    "        if num[i]==0:\n",
    "            new_num2.append(num[i])\n",
    "        else:\n",
    "            new_num1.append(num[i])\n",
    "    new_num3=new_num1+new_num2\n",
    "    print(\"new_num3=\",new_num3)\n",
    "num1=[0,1,0,3,12]\n",
    "num2=[0]\n",
    "fun2(num1)\n",
    "fun2(num2)"
   ]
  },
  {
   "cell_type": "code",
   "execution_count": null,
   "metadata": {},
   "outputs": [],
   "source": []
  }
 ],
 "metadata": {
  "kernelspec": {
   "display_name": "Python 3",
   "language": "python",
   "name": "python3"
  },
  "language_info": {
   "codemirror_mode": {
    "name": "ipython",
    "version": 3
   },
   "file_extension": ".py",
   "mimetype": "text/x-python",
   "name": "python",
   "nbconvert_exporter": "python",
   "pygments_lexer": "ipython3",
   "version": "3.7.16"
  },
  "orig_nbformat": 4
 },
 "nbformat": 4,
 "nbformat_minor": 2
}
