{
 "cells": [
  {
   "cell_type": "code",
   "execution_count": null,
   "metadata": {},
   "outputs": [],
   "source": [
    "# First Unique Character in a String\n",
    "\n",
    "# Given a string s, find the first non-repeating character in it and return its index. If it does not exist, return -1.\n",
    "\n",
    "# Example 1:\n",
    "# Input: s = \"leetcode\"\n",
    "# Output: 0\n",
    "\n",
    "# Example 2:\n",
    "# Input: s = \"loveleetcode\"\n",
    "# Output: 2\n",
    "\n",
    "# Example 3:\n",
    "# Input: s = \"aabb\"\n",
    "# Output: -1\n",
    "\n",
    "# Constraints:\n",
    "# a. 1 <= s.length <= 10^5\n",
    "# b. s consists of only lowercase English letters."
   ]
  },
  {
   "cell_type": "code",
   "execution_count": 2,
   "metadata": {},
   "outputs": [
    {
     "name": "stdout",
     "output_type": "stream",
     "text": [
      "index of first non repeating element is  0\n",
      "index of first non repeating element is  2\n",
      "-1\n"
     ]
    }
   ],
   "source": [
    "#solution:  \n",
    "def fun3(s):\n",
    "    for i in range(len(s)):\n",
    "        count=0\n",
    "        for j in range(len(s)):\n",
    "            if i == j:\n",
    "                a=0\n",
    "            else:\n",
    "                if s[i] == s[j]:\n",
    "                    count=count+1\n",
    "        if count == 0:\n",
    "            print('index of first non repeating element is ',i)\n",
    "            break\n",
    "    if count != 0:\n",
    "        print('-1')\n",
    "\n",
    "s1 = \"leetcode\"\n",
    "s2 = \"loveleetcode\"\n",
    "s3 = \"aabb\"\n",
    "fun3(s1)\n",
    "fun3(s2)\n",
    "fun3(s3)"
   ]
  },
  {
   "cell_type": "code",
   "execution_count": null,
   "metadata": {},
   "outputs": [],
   "source": []
  }
 ],
 "metadata": {
  "kernelspec": {
   "display_name": "Python 3",
   "language": "python",
   "name": "python3"
  },
  "language_info": {
   "codemirror_mode": {
    "name": "ipython",
    "version": 3
   },
   "file_extension": ".py",
   "mimetype": "text/x-python",
   "name": "python",
   "nbconvert_exporter": "python",
   "pygments_lexer": "ipython3",
   "version": "3.7.16"
  },
  "orig_nbformat": 4
 },
 "nbformat": 4,
 "nbformat_minor": 2
}
